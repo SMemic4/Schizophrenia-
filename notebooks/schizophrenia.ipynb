{
 "cells": [
  {
   "cell_type": "markdown",
   "metadata": {},
   "source": [
    "# Schizophrenia"
   ]
  },
  {
   "cell_type": "markdown",
   "metadata": {},
   "source": [
    "---"
   ]
  },
  {
   "cell_type": "markdown",
   "metadata": {},
   "source": [
    "## Modules and Setup"
   ]
  },
  {
   "cell_type": "code",
   "execution_count": 3,
   "metadata": {},
   "outputs": [],
   "source": [
    "import os as os\n",
    "import numpy as np\n",
    "import pandas.api.types as ptypes\n",
    "import pandas as pd\n",
    "import seaborn as sns\n",
    "import matplotlib.pyplot as plt \n",
    "import statsmodels.api as sm\n",
    "from IPython.display import Markdown, display\n",
    "from statsmodels.stats.outliers_influence import variance_inflation_factor\n",
    "from ucimlrepo import fetch_ucirepo \n"
   ]
  },
  {
   "cell_type": "code",
   "execution_count": 2,
   "metadata": {},
   "outputs": [],
   "source": [
    "pd.set_option('display.float_format', lambda x: '%.9f' % x)"
   ]
  },
  {
   "cell_type": "code",
   "execution_count": null,
   "metadata": {},
   "outputs": [],
   "source": [
    "previous_dir = None # Failsafe if directory does not start in notebook directory \n",
    "while not os.path.exists('README.md'):\n",
    "    current_dir = os.getcwd()\n",
    "\n",
    "    if current_dir == previous_dir:\n",
    "        print('Warning: Project root not found. Project currently at', current_dir)\n",
    "        break\n",
    "\n",
    "    previous_dir = current_dir\n",
    "    os.chdir(os.path.abspath(os.path.join(os.getcwd(), '..')))"
   ]
  },
  {
   "cell_type": "markdown",
   "metadata": {},
   "source": [
    "---"
   ]
  },
  {
   "cell_type": "markdown",
   "metadata": {},
   "source": [
    "# 1. Project Overview"
   ]
  },
  {
   "cell_type": "markdown",
   "metadata": {},
   "source": [
    "---"
   ]
  },
  {
   "cell_type": "markdown",
   "metadata": {},
   "source": [
    "# 2. Objectives"
   ]
  },
  {
   "cell_type": "markdown",
   "metadata": {},
   "source": [
    "---"
   ]
  },
  {
   "cell_type": "markdown",
   "metadata": {},
   "source": [
    "# 3. Dataset"
   ]
  },
  {
   "cell_type": "markdown",
   "metadata": {},
   "source": [
    "## 3.1. Dataset Features"
   ]
  },
  {
   "cell_type": "markdown",
   "metadata": {},
   "source": [
    "\n",
    "\n",
    "| Feature Name              | Type        | Description                                      | Values (if categorical)                                         |\n",
    "|---------------------------|------------|--------------------------------------------------|-----------------------------------------------------------------|\n",
    "| Patient_ID               | Numerical  | Unique identifier assigned to each patient      | Unique ID                                                      |\n",
    "| Age                      | Numerical  | Patient's age                                   | 18-80                                                          |\n",
    "| Gender                   | Categorical| Gender of the patient                           | 0: Female, 1: Male                                             |\n",
    "| Education_Level          | Categorical| Highest level of education completed           | 1: Primary, 2: Middle, 3: High School, 4: University, 5: Postgraduate |\n",
    "| Marital_Status          | Categorical| Marital status of the patient                  | 0: Single, 1: Married, 2: Divorced, 3: Widowed                 |\n",
    "| Occupation              | Categorical| Employment status of the patient               | 0: Unemployed, 1: Employed, 2: Retired, 3: Student             |\n",
    "| Income_Level            | Categorical| Income level category                          | 0: Low, 1: Medium, 2: High                                     |\n",
    "| Living_Area             | Categorical| Living area classification                     | 0: Rural, 1: Urban                                            |\n",
    "| Diagnosis               | Categorical| Schizophrenia diagnosis status                 | 0: Not schizophrenic, 1: Schizophrenic                         |\n",
    "| Disease_Duration        | Numerical  | Duration of illness (years)                    | 1-40                                                           |\n",
    "| Hospitalizations        | Numerical  | Number of hospital admissions                  | 0-10                                                           |\n",
    "| Family_History         | Categorical| Family history of schizophrenia                | 0: No, 1: Yes                                                 |\n",
    "| Substance_Use          | Categorical| Substance use history (tobacco, alcohol, drugs)| 0: No, 1: Yes                                                 |\n",
    "| Suicide_Attempt        | Categorical| History of suicide attempts                    | 0: No, 1: Yes                                                 |\n",
    "| Positive_Symptom_Score | Numerical  | Positive symptom severity                      | 0-100                                                          |\n",
    "| Negative_Symptom_Score | Numerical  | Negative symptom severity                      | 0-100                                                          |\n",
    "| GAF_Score              | Numerical  | Global assessment of functioning               | 0-100                                                          |\n",
    "| Social_Support         | Categorical| Level of social support                        | 0: Low, 1: Medium, 2: High                                     |\n",
    "| Stress_Factors         | Categorical| Level of stress factors                        | 0: Low, 1: Medium, 2: High                                     |\n",
    "| Medication_Adherence   | Categorical| Adherence to medication regimen                | 0: Poor, 1: Moderate, 2: Good                                  |\n"
   ]
  },
  {
   "cell_type": "markdown",
   "metadata": {},
   "source": [
    "---"
   ]
  },
  {
   "cell_type": "markdown",
   "metadata": {},
   "source": [
    "# 4. Workflow"
   ]
  },
  {
   "cell_type": "markdown",
   "metadata": {},
   "source": [
    "## 4.1. Loading and Tidying the Data"
   ]
  },
  {
   "cell_type": "code",
   "execution_count": 37,
   "metadata": {},
   "outputs": [],
   "source": [
    "raw_data_file = os.path.abspath(os.path.join(os.getcwd(), 'data', 'raw', 'schizophrenia_dataset.csv')) \n",
    "if os.path.exists(raw_data_file): \n",
    "    df = pd.read_csv(raw_data_file)\n",
    "else:\n",
    "    print('Data file is missing:', raw_data_file) # Debugging for missing file"
   ]
  },
  {
   "cell_type": "code",
   "execution_count": 38,
   "metadata": {},
   "outputs": [
    {
     "data": {
      "text/html": [
       "<div>\n",
       "<style scoped>\n",
       "    .dataframe tbody tr th:only-of-type {\n",
       "        vertical-align: middle;\n",
       "    }\n",
       "\n",
       "    .dataframe tbody tr th {\n",
       "        vertical-align: top;\n",
       "    }\n",
       "\n",
       "    .dataframe thead th {\n",
       "        text-align: right;\n",
       "    }\n",
       "</style>\n",
       "<table border=\"1\" class=\"dataframe\">\n",
       "  <thead>\n",
       "    <tr style=\"text-align: right;\">\n",
       "      <th></th>\n",
       "      <th>Patient_ID</th>\n",
       "      <th>Age</th>\n",
       "      <th>Gender</th>\n",
       "      <th>Education_Level</th>\n",
       "      <th>Maritial_Status</th>\n",
       "      <th>Occupation</th>\n",
       "      <th>Income_Level</th>\n",
       "      <th>Living_Area</th>\n",
       "      <th>Diagnosis</th>\n",
       "      <th>Disease_Duration</th>\n",
       "      <th>Hospitalizations</th>\n",
       "      <th>Family_History</th>\n",
       "      <th>Substance_use</th>\n",
       "      <th>Suicide_Attempt</th>\n",
       "      <th>Positive_Symptom_Score</th>\n",
       "      <th>Negative_Symptom_Score</th>\n",
       "      <th>GAF_Score</th>\n",
       "      <th>Social_Support</th>\n",
       "      <th>Stress_factors</th>\n",
       "      <th>Medication_Adherence</th>\n",
       "    </tr>\n",
       "  </thead>\n",
       "  <tbody>\n",
       "    <tr>\n",
       "      <th>0</th>\n",
       "      <td>1</td>\n",
       "      <td>72</td>\n",
       "      <td>1</td>\n",
       "      <td>4</td>\n",
       "      <td>2</td>\n",
       "      <td>0</td>\n",
       "      <td>2</td>\n",
       "      <td>1</td>\n",
       "      <td>0</td>\n",
       "      <td>0</td>\n",
       "      <td>0</td>\n",
       "      <td>0</td>\n",
       "      <td>0</td>\n",
       "      <td>0</td>\n",
       "      <td>32</td>\n",
       "      <td>48</td>\n",
       "      <td>72</td>\n",
       "      <td>0</td>\n",
       "      <td>2</td>\n",
       "      <td>2</td>\n",
       "    </tr>\n",
       "    <tr>\n",
       "      <th>1</th>\n",
       "      <td>2</td>\n",
       "      <td>49</td>\n",
       "      <td>1</td>\n",
       "      <td>5</td>\n",
       "      <td>2</td>\n",
       "      <td>2</td>\n",
       "      <td>1</td>\n",
       "      <td>0</td>\n",
       "      <td>1</td>\n",
       "      <td>35</td>\n",
       "      <td>1</td>\n",
       "      <td>1</td>\n",
       "      <td>1</td>\n",
       "      <td>1</td>\n",
       "      <td>51</td>\n",
       "      <td>63</td>\n",
       "      <td>40</td>\n",
       "      <td>2</td>\n",
       "      <td>2</td>\n",
       "      <td>0</td>\n",
       "    </tr>\n",
       "    <tr>\n",
       "      <th>2</th>\n",
       "      <td>3</td>\n",
       "      <td>53</td>\n",
       "      <td>1</td>\n",
       "      <td>5</td>\n",
       "      <td>3</td>\n",
       "      <td>2</td>\n",
       "      <td>1</td>\n",
       "      <td>0</td>\n",
       "      <td>1</td>\n",
       "      <td>32</td>\n",
       "      <td>0</td>\n",
       "      <td>1</td>\n",
       "      <td>0</td>\n",
       "      <td>0</td>\n",
       "      <td>72</td>\n",
       "      <td>85</td>\n",
       "      <td>51</td>\n",
       "      <td>0</td>\n",
       "      <td>1</td>\n",
       "      <td>1</td>\n",
       "    </tr>\n",
       "    <tr>\n",
       "      <th>3</th>\n",
       "      <td>4</td>\n",
       "      <td>67</td>\n",
       "      <td>1</td>\n",
       "      <td>3</td>\n",
       "      <td>2</td>\n",
       "      <td>0</td>\n",
       "      <td>2</td>\n",
       "      <td>0</td>\n",
       "      <td>0</td>\n",
       "      <td>0</td>\n",
       "      <td>0</td>\n",
       "      <td>0</td>\n",
       "      <td>1</td>\n",
       "      <td>0</td>\n",
       "      <td>10</td>\n",
       "      <td>21</td>\n",
       "      <td>74</td>\n",
       "      <td>1</td>\n",
       "      <td>1</td>\n",
       "      <td>2</td>\n",
       "    </tr>\n",
       "    <tr>\n",
       "      <th>4</th>\n",
       "      <td>5</td>\n",
       "      <td>54</td>\n",
       "      <td>0</td>\n",
       "      <td>1</td>\n",
       "      <td>2</td>\n",
       "      <td>0</td>\n",
       "      <td>2</td>\n",
       "      <td>1</td>\n",
       "      <td>0</td>\n",
       "      <td>0</td>\n",
       "      <td>0</td>\n",
       "      <td>0</td>\n",
       "      <td>0</td>\n",
       "      <td>0</td>\n",
       "      <td>4</td>\n",
       "      <td>27</td>\n",
       "      <td>98</td>\n",
       "      <td>0</td>\n",
       "      <td>1</td>\n",
       "      <td>0</td>\n",
       "    </tr>\n",
       "  </tbody>\n",
       "</table>\n",
       "</div>"
      ],
      "text/plain": [
       "   Patient_ID  Age  Gender  Education_Level  Maritial_Status  Occupation  \\\n",
       "0           1   72       1                4                2           0   \n",
       "1           2   49       1                5                2           2   \n",
       "2           3   53       1                5                3           2   \n",
       "3           4   67       1                3                2           0   \n",
       "4           5   54       0                1                2           0   \n",
       "\n",
       "   Income_Level  Living_Area  Diagnosis  Disease_Duration  Hospitalizations  \\\n",
       "0             2            1          0                 0                 0   \n",
       "1             1            0          1                35                 1   \n",
       "2             1            0          1                32                 0   \n",
       "3             2            0          0                 0                 0   \n",
       "4             2            1          0                 0                 0   \n",
       "\n",
       "   Family_History  Substance_use  Suicide_Attempt  Positive_Symptom_Score  \\\n",
       "0               0              0                0                      32   \n",
       "1               1              1                1                      51   \n",
       "2               1              0                0                      72   \n",
       "3               0              1                0                      10   \n",
       "4               0              0                0                       4   \n",
       "\n",
       "   Negative_Symptom_Score  GAF_Score  Social_Support  Stress_factors  \\\n",
       "0                      48         72               0               2   \n",
       "1                      63         40               2               2   \n",
       "2                      85         51               0               1   \n",
       "3                      21         74               1               1   \n",
       "4                      27         98               0               1   \n",
       "\n",
       "   Medication_Adherence  \n",
       "0                     2  \n",
       "1                     0  \n",
       "2                     1  \n",
       "3                     2  \n",
       "4                     0  "
      ]
     },
     "execution_count": 38,
     "metadata": {},
     "output_type": "execute_result"
    }
   ],
   "source": [
    "df.head()"
   ]
  },
  {
   "cell_type": "code",
   "execution_count": 39,
   "metadata": {},
   "outputs": [
    {
     "data": {
      "text/html": [
       "<div>\n",
       "<style scoped>\n",
       "    .dataframe tbody tr th:only-of-type {\n",
       "        vertical-align: middle;\n",
       "    }\n",
       "\n",
       "    .dataframe tbody tr th {\n",
       "        vertical-align: top;\n",
       "    }\n",
       "\n",
       "    .dataframe thead th {\n",
       "        text-align: right;\n",
       "    }\n",
       "</style>\n",
       "<table border=\"1\" class=\"dataframe\">\n",
       "  <thead>\n",
       "    <tr style=\"text-align: right;\">\n",
       "      <th></th>\n",
       "      <th>Patient_ID</th>\n",
       "      <th>Age</th>\n",
       "      <th>Gender</th>\n",
       "      <th>Education_Level</th>\n",
       "      <th>Maritial_Status</th>\n",
       "      <th>Occupation</th>\n",
       "      <th>Income_Level</th>\n",
       "      <th>Living_Area</th>\n",
       "      <th>Diagnosis</th>\n",
       "      <th>Disease_Duration</th>\n",
       "      <th>Hospitalizations</th>\n",
       "      <th>Family_History</th>\n",
       "      <th>Substance_use</th>\n",
       "      <th>Suicide_Attempt</th>\n",
       "      <th>Positive_Symptom_Score</th>\n",
       "      <th>Negative_Symptom_Score</th>\n",
       "      <th>GAF_Score</th>\n",
       "      <th>Social_Support</th>\n",
       "      <th>Stress_factors</th>\n",
       "      <th>Medication_Adherence</th>\n",
       "    </tr>\n",
       "  </thead>\n",
       "  <tbody>\n",
       "    <tr>\n",
       "      <th>9995</th>\n",
       "      <td>9996</td>\n",
       "      <td>72</td>\n",
       "      <td>0</td>\n",
       "      <td>2</td>\n",
       "      <td>3</td>\n",
       "      <td>3</td>\n",
       "      <td>0</td>\n",
       "      <td>1</td>\n",
       "      <td>1</td>\n",
       "      <td>18</td>\n",
       "      <td>1</td>\n",
       "      <td>1</td>\n",
       "      <td>0</td>\n",
       "      <td>1</td>\n",
       "      <td>84</td>\n",
       "      <td>74</td>\n",
       "      <td>54</td>\n",
       "      <td>1</td>\n",
       "      <td>1</td>\n",
       "      <td>1</td>\n",
       "    </tr>\n",
       "    <tr>\n",
       "      <th>9996</th>\n",
       "      <td>9997</td>\n",
       "      <td>27</td>\n",
       "      <td>0</td>\n",
       "      <td>3</td>\n",
       "      <td>3</td>\n",
       "      <td>3</td>\n",
       "      <td>0</td>\n",
       "      <td>0</td>\n",
       "      <td>1</td>\n",
       "      <td>6</td>\n",
       "      <td>6</td>\n",
       "      <td>0</td>\n",
       "      <td>0</td>\n",
       "      <td>0</td>\n",
       "      <td>99</td>\n",
       "      <td>50</td>\n",
       "      <td>53</td>\n",
       "      <td>2</td>\n",
       "      <td>2</td>\n",
       "      <td>0</td>\n",
       "    </tr>\n",
       "    <tr>\n",
       "      <th>9997</th>\n",
       "      <td>9998</td>\n",
       "      <td>31</td>\n",
       "      <td>1</td>\n",
       "      <td>3</td>\n",
       "      <td>2</td>\n",
       "      <td>0</td>\n",
       "      <td>0</td>\n",
       "      <td>0</td>\n",
       "      <td>1</td>\n",
       "      <td>29</td>\n",
       "      <td>9</td>\n",
       "      <td>1</td>\n",
       "      <td>1</td>\n",
       "      <td>0</td>\n",
       "      <td>65</td>\n",
       "      <td>65</td>\n",
       "      <td>60</td>\n",
       "      <td>1</td>\n",
       "      <td>1</td>\n",
       "      <td>1</td>\n",
       "    </tr>\n",
       "    <tr>\n",
       "      <th>9998</th>\n",
       "      <td>9999</td>\n",
       "      <td>56</td>\n",
       "      <td>1</td>\n",
       "      <td>4</td>\n",
       "      <td>1</td>\n",
       "      <td>1</td>\n",
       "      <td>2</td>\n",
       "      <td>1</td>\n",
       "      <td>0</td>\n",
       "      <td>0</td>\n",
       "      <td>0</td>\n",
       "      <td>0</td>\n",
       "      <td>0</td>\n",
       "      <td>0</td>\n",
       "      <td>38</td>\n",
       "      <td>10</td>\n",
       "      <td>74</td>\n",
       "      <td>0</td>\n",
       "      <td>1</td>\n",
       "      <td>2</td>\n",
       "    </tr>\n",
       "    <tr>\n",
       "      <th>9999</th>\n",
       "      <td>10000</td>\n",
       "      <td>53</td>\n",
       "      <td>0</td>\n",
       "      <td>1</td>\n",
       "      <td>3</td>\n",
       "      <td>1</td>\n",
       "      <td>0</td>\n",
       "      <td>1</td>\n",
       "      <td>0</td>\n",
       "      <td>0</td>\n",
       "      <td>0</td>\n",
       "      <td>0</td>\n",
       "      <td>0</td>\n",
       "      <td>0</td>\n",
       "      <td>24</td>\n",
       "      <td>21</td>\n",
       "      <td>87</td>\n",
       "      <td>1</td>\n",
       "      <td>2</td>\n",
       "      <td>0</td>\n",
       "    </tr>\n",
       "  </tbody>\n",
       "</table>\n",
       "</div>"
      ],
      "text/plain": [
       "      Patient_ID  Age  Gender  Education_Level  Maritial_Status  Occupation  \\\n",
       "9995        9996   72       0                2                3           3   \n",
       "9996        9997   27       0                3                3           3   \n",
       "9997        9998   31       1                3                2           0   \n",
       "9998        9999   56       1                4                1           1   \n",
       "9999       10000   53       0                1                3           1   \n",
       "\n",
       "      Income_Level  Living_Area  Diagnosis  Disease_Duration  \\\n",
       "9995             0            1          1                18   \n",
       "9996             0            0          1                 6   \n",
       "9997             0            0          1                29   \n",
       "9998             2            1          0                 0   \n",
       "9999             0            1          0                 0   \n",
       "\n",
       "      Hospitalizations  Family_History  Substance_use  Suicide_Attempt  \\\n",
       "9995                 1               1              0                1   \n",
       "9996                 6               0              0                0   \n",
       "9997                 9               1              1                0   \n",
       "9998                 0               0              0                0   \n",
       "9999                 0               0              0                0   \n",
       "\n",
       "      Positive_Symptom_Score  Negative_Symptom_Score  GAF_Score  \\\n",
       "9995                      84                      74         54   \n",
       "9996                      99                      50         53   \n",
       "9997                      65                      65         60   \n",
       "9998                      38                      10         74   \n",
       "9999                      24                      21         87   \n",
       "\n",
       "      Social_Support  Stress_factors  Medication_Adherence  \n",
       "9995               1               1                     1  \n",
       "9996               2               2                     0  \n",
       "9997               1               1                     1  \n",
       "9998               0               1                     2  \n",
       "9999               1               2                     0  "
      ]
     },
     "execution_count": 39,
     "metadata": {},
     "output_type": "execute_result"
    }
   ],
   "source": [
    "df.tail()"
   ]
  },
  {
   "cell_type": "code",
   "execution_count": 43,
   "metadata": {},
   "outputs": [
    {
     "data": {
      "text/plain": [
       "Patient_ID                0\n",
       "Age                       0\n",
       "Gender                    0\n",
       "Education_Level           0\n",
       "Maritial_Status           0\n",
       "Occupation                0\n",
       "Income_Level              0\n",
       "Living_Area               0\n",
       "Diagnosis                 0\n",
       "Disease_Duration          0\n",
       "Hospitalizations          0\n",
       "Family_History            0\n",
       "Substance_use             0\n",
       "Suicide_Attempt           0\n",
       "Positive_Symptom_Score    0\n",
       "Negative_Symptom_Score    0\n",
       "GAF_Score                 0\n",
       "Social_Support            0\n",
       "Stress_factors            0\n",
       "Medication_Adherence      0\n",
       "dtype: int64"
      ]
     },
     "execution_count": 43,
     "metadata": {},
     "output_type": "execute_result"
    }
   ],
   "source": [
    "df.isna().sum(axis = 0)"
   ]
  },
  {
   "cell_type": "code",
   "execution_count": 44,
   "metadata": {},
   "outputs": [
    {
     "name": "stdout",
     "output_type": "stream",
     "text": [
      "<class 'pandas.core.frame.DataFrame'>\n",
      "RangeIndex: 10000 entries, 0 to 9999\n",
      "Data columns (total 20 columns):\n",
      " #   Column                  Non-Null Count  Dtype\n",
      "---  ------                  --------------  -----\n",
      " 0   Patient_ID              10000 non-null  int64\n",
      " 1   Age                     10000 non-null  int64\n",
      " 2   Gender                  10000 non-null  int64\n",
      " 3   Education_Level         10000 non-null  int64\n",
      " 4   Maritial_Status         10000 non-null  int64\n",
      " 5   Occupation              10000 non-null  int64\n",
      " 6   Income_Level            10000 non-null  int64\n",
      " 7   Living_Area             10000 non-null  int64\n",
      " 8   Diagnosis               10000 non-null  int64\n",
      " 9   Disease_Duration        10000 non-null  int64\n",
      " 10  Hospitalizations        10000 non-null  int64\n",
      " 11  Family_History          10000 non-null  int64\n",
      " 12  Substance_use           10000 non-null  int64\n",
      " 13  Suicide_Attempt         10000 non-null  int64\n",
      " 14  Positive_Symptom_Score  10000 non-null  int64\n",
      " 15  Negative_Symptom_Score  10000 non-null  int64\n",
      " 16  GAF_Score               10000 non-null  int64\n",
      " 17  Social_Support          10000 non-null  int64\n",
      " 18  Stress_factors          10000 non-null  int64\n",
      " 19  Medication_Adherence    10000 non-null  int64\n",
      "dtypes: int64(20)\n",
      "memory usage: 1.5 MB\n"
     ]
    }
   ],
   "source": [
    "df.info()"
   ]
  },
  {
   "cell_type": "markdown",
   "metadata": {},
   "source": [
    "### 4.1.1 Decoding the Categorical Variables"
   ]
  },
  {
   "cell_type": "code",
   "execution_count": null,
   "metadata": {},
   "outputs": [],
   "source": [
    "col_dict = {'Gender': {0: 'Female', 1: 'Male'},\n",
    "            'Education_Level': {1: 'Primary', 2: 'Middle School', 3: 'High School', 4: 'University', 5: 'Postgraduate'},\n",
    "            'Maritial_Status': {0: 'Single', 1: 'Married', 2: 'Divorced', 3: 'Widowed'},\n",
    "            'Occupation': {0: 'Unemployed', 1: 'Employed', 2: 'Retired', 3: 'Student'},\n",
    "            'Income_Level': {0: 'Low', 1: 'Medium', 2: 'High'},\n",
    "            'Living_Area': {0: 'Rural', 1: 'Urban'},\n",
    "            'Diagnosis': {0: 'Not Schizophrenic', 1: 'Schizophrenic'},\n",
    "            'Family_History': {0: 'No', 1: 'Yes'},\n",
    "            'Substance_use': {0: 'No', 1: 'Yes'},\n",
    "            'Suicide_Attempt': {0: 'No', 1: 'Yes'},\n",
    "            'Social_Support': {0: 'Low', 1: 'Medium', 2: 'High'},\n",
    "            'Stress_factors': {0: 'Low', 1: 'Medium', 2: 'High'},\n",
    "            'Medication_Adherence': {0: 'Poor', 1: 'Moderate', 2: 'Good'}}"
   ]
  },
  {
   "cell_type": "code",
   "execution_count": null,
   "metadata": {},
   "outputs": [],
   "source": []
  },
  {
   "cell_type": "markdown",
   "metadata": {},
   "source": [
    "## 4.2. Exploratory Data Analysis (EDA)"
   ]
  },
  {
   "cell_type": "markdown",
   "metadata": {},
   "source": [
    "### 4.2.1. Overview of the Dataset"
   ]
  },
  {
   "cell_type": "markdown",
   "metadata": {},
   "source": [
    "### 4.2.2. Target Variable Analysis"
   ]
  },
  {
   "cell_type": "markdown",
   "metadata": {},
   "source": [
    "### 4.2.3. Univariate Analysis"
   ]
  },
  {
   "cell_type": "markdown",
   "metadata": {},
   "source": [
    "#### 4.2.3.1. Numerical Variables"
   ]
  },
  {
   "cell_type": "markdown",
   "metadata": {},
   "source": [
    "#### 4.2.3.2. Categorical Variables"
   ]
  },
  {
   "cell_type": "markdown",
   "metadata": {},
   "source": [
    "### 4.2.4. Bivariate Analysis"
   ]
  },
  {
   "cell_type": "markdown",
   "metadata": {},
   "source": [
    "### 4.2.5. Feature Relationships"
   ]
  },
  {
   "cell_type": "markdown",
   "metadata": {},
   "source": [
    "---"
   ]
  },
  {
   "cell_type": "markdown",
   "metadata": {},
   "source": [
    "# 5. Data Preprocessing"
   ]
  },
  {
   "cell_type": "markdown",
   "metadata": {},
   "source": [
    "## 5.1. Spliting the Data into testing and training"
   ]
  },
  {
   "cell_type": "markdown",
   "metadata": {},
   "source": [
    "## 5.2. Feature Scaling"
   ]
  },
  {
   "cell_type": "markdown",
   "metadata": {},
   "source": [
    "---"
   ]
  },
  {
   "cell_type": "markdown",
   "metadata": {},
   "source": [
    "# 6. Model Development"
   ]
  },
  {
   "cell_type": "markdown",
   "metadata": {},
   "source": [
    "---"
   ]
  },
  {
   "cell_type": "markdown",
   "metadata": {},
   "source": [
    "# 7. Model Evaluation"
   ]
  },
  {
   "cell_type": "markdown",
   "metadata": {},
   "source": [
    "---"
   ]
  },
  {
   "cell_type": "markdown",
   "metadata": {},
   "source": [
    "# 8. Results"
   ]
  },
  {
   "cell_type": "markdown",
   "metadata": {},
   "source": [
    "---"
   ]
  },
  {
   "cell_type": "markdown",
   "metadata": {},
   "source": [
    "# 9. Conclusions"
   ]
  },
  {
   "cell_type": "markdown",
   "metadata": {},
   "source": [
    "---"
   ]
  }
 ],
 "metadata": {
  "kernelspec": {
   "display_name": "myenv",
   "language": "python",
   "name": "python3"
  },
  "language_info": {
   "codemirror_mode": {
    "name": "ipython",
    "version": 3
   },
   "file_extension": ".py",
   "mimetype": "text/x-python",
   "name": "python",
   "nbconvert_exporter": "python",
   "pygments_lexer": "ipython3",
   "version": "3.12.4"
  }
 },
 "nbformat": 4,
 "nbformat_minor": 2
}
